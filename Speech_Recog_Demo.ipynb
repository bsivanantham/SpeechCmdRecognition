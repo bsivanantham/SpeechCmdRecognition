{
  "nbformat": 4,
  "nbformat_minor": 0,
  "metadata": {
    "colab": {
      "name": "Speech Data Generator - GoogleSpeechCmdV2.ipynb",
      "version": "0.3.2",
      "provenance": []
    },
    "kernelspec": {
      "name": "python3",
      "display_name": "Python 3"
    },
    "accelerator": "GPU"
  },
  "cells": [
    {
      "metadata": {
        "colab_type": "text",
        "id": "hTrNWNHLyaqF"
      },
      "cell_type": "markdown",
      "source": [
        "# Speech Command Recognition \n",
        "\n",
        "This notebook presents an attention model for speech command recognotion. We use Google Speech Commands Dataset to test the Keras generator for sound files and the proposed RNN attention model.\n",
        "\n",
        "\n",
        "## Download files and load information\n",
        "\n",
        "Dynamically load speech data from the disk to allow handling big datasets.\n",
        "\n",
        "First step: download Google Speech Command Dataset and convert all WAV files to numpy arrays for faster load (about 10x faster than loading raw WAV)."
      ]
    },
    {
      "metadata": {
        "colab_type": "code",
        "id": "GieC2ZgNycMI",
        "outputId": "521d13fb-879f-422d-b9aa-a9fd25e870da",
        "colab": {
          "base_uri": "https://localhost:8080/",
          "height": 513
        }
      },
      "cell_type": "code",
      "source": [
        "useColab=True\n",
        "if useColab:\n",
        "    !wget -q https://raw.githubusercontent.com/douglas125/SpeechCmdRecognition/master/SpeechDownloader.py\n",
        "    !wget -q https://raw.githubusercontent.com/douglas125/SpeechCmdRecognition/master/SpeechGenerator.py\n",
        "    !wget -q https://raw.githubusercontent.com/douglas125/SpeechCmdRecognition/master/audioUtils.py\n",
        "    !wget -q https://raw.githubusercontent.com/douglas125/SpeechCmdRecognition/master/SpeechModels.py\n",
        "    !wget -q https://raw.githubusercontent.com/douglas125/SpeechCmdRecognition/master/requirements.txt\n",
        "    !pip install -r requirements.txt"
      ],
      "execution_count": 2,
      "outputs": [
        {
          "output_type": "stream",
          "text": [
            "Requirement already satisfied: tqdm in /usr/local/lib/python3.6/dist-packages (from -r requirements.txt (line 1)) (4.28.1)\n",
            "Requirement already satisfied: keras in /usr/local/lib/python3.6/dist-packages (from -r requirements.txt (line 2)) (2.2.4)\n",
            "Requirement already satisfied: kapre==0.1.3.1 in /usr/local/lib/python3.6/dist-packages (from -r requirements.txt (line 3)) (0.1.3.1)\n",
            "Requirement already satisfied: pandas in /usr/local/lib/python3.6/dist-packages (from -r requirements.txt (line 4)) (0.22.0)\n",
            "Collecting soundfile (from -r requirements.txt (line 5))\n",
            "  Downloading https://files.pythonhosted.org/packages/68/64/1191352221e2ec90db7492b4bf0c04fd9d2508de67b3f39cbf093cd6bd86/SoundFile-0.10.2-py2.py3-none-any.whl\n",
            "Requirement already satisfied: librosa in /usr/local/lib/python3.6/dist-packages (from -r requirements.txt (line 6)) (0.6.3)\n",
            "Requirement already satisfied: keras-applications>=1.0.6 in /usr/local/lib/python3.6/dist-packages (from keras->-r requirements.txt (line 2)) (1.0.7)\n",
            "Requirement already satisfied: scipy>=0.14 in /usr/local/lib/python3.6/dist-packages (from keras->-r requirements.txt (line 2)) (1.1.0)\n",
            "Requirement already satisfied: pyyaml in /usr/local/lib/python3.6/dist-packages (from keras->-r requirements.txt (line 2)) (3.13)\n",
            "Requirement already satisfied: keras-preprocessing>=1.0.5 in /usr/local/lib/python3.6/dist-packages (from keras->-r requirements.txt (line 2)) (1.0.9)\n",
            "Requirement already satisfied: six>=1.9.0 in /usr/local/lib/python3.6/dist-packages (from keras->-r requirements.txt (line 2)) (1.11.0)\n",
            "Requirement already satisfied: numpy>=1.9.1 in /usr/local/lib/python3.6/dist-packages (from keras->-r requirements.txt (line 2)) (1.14.6)\n",
            "Requirement already satisfied: h5py in /usr/local/lib/python3.6/dist-packages (from keras->-r requirements.txt (line 2)) (2.8.0)\n",
            "Requirement already satisfied: future in /usr/local/lib/python3.6/dist-packages (from kapre==0.1.3.1->-r requirements.txt (line 3)) (0.16.0)\n",
            "Requirement already satisfied: python-dateutil>=2 in /usr/local/lib/python3.6/dist-packages (from pandas->-r requirements.txt (line 4)) (2.5.3)\n",
            "Requirement already satisfied: pytz>=2011k in /usr/local/lib/python3.6/dist-packages (from pandas->-r requirements.txt (line 4)) (2018.9)\n",
            "Requirement already satisfied: cffi>=1.0 in /usr/local/lib/python3.6/dist-packages (from soundfile->-r requirements.txt (line 5)) (1.12.2)\n",
            "Requirement already satisfied: audioread>=2.0.0 in /usr/local/lib/python3.6/dist-packages (from librosa->-r requirements.txt (line 6)) (2.1.6)\n",
            "Requirement already satisfied: scikit-learn!=0.19.0,>=0.14.0 in /usr/local/lib/python3.6/dist-packages (from librosa->-r requirements.txt (line 6)) (0.20.3)\n",
            "Requirement already satisfied: joblib>=0.12 in /usr/local/lib/python3.6/dist-packages (from librosa->-r requirements.txt (line 6)) (0.12.5)\n",
            "Requirement already satisfied: decorator>=3.0.0 in /usr/local/lib/python3.6/dist-packages (from librosa->-r requirements.txt (line 6)) (4.4.0)\n",
            "Requirement already satisfied: resampy>=0.2.0 in /usr/local/lib/python3.6/dist-packages (from librosa->-r requirements.txt (line 6)) (0.2.1)\n",
            "Requirement already satisfied: numba>=0.38.0 in /usr/local/lib/python3.6/dist-packages (from librosa->-r requirements.txt (line 6)) (0.40.1)\n",
            "Requirement already satisfied: pycparser in /usr/local/lib/python3.6/dist-packages (from cffi>=1.0->soundfile->-r requirements.txt (line 5)) (2.19)\n",
            "Requirement already satisfied: llvmlite>=0.25.0dev0 in /usr/local/lib/python3.6/dist-packages (from numba>=0.38.0->librosa->-r requirements.txt (line 6)) (0.28.0)\n",
            "Installing collected packages: soundfile\n",
            "Successfully installed soundfile-0.10.2\n"
          ],
          "name": "stdout"
        }
      ]
    },
    {
      "metadata": {
        "colab_type": "code",
        "id": "8zJv_ttsyaqJ",
        "outputId": "c7685588-2ace-45e2-bc10-43748f418bfb",
        "colab": {
          "base_uri": "https://localhost:8080/",
          "height": 34
        }
      },
      "cell_type": "code",
      "source": [
        "%load_ext autoreload\n",
        "%autoreload 2\n",
        "\n",
        "import librosa\n",
        "import matplotlib\n",
        "import numpy as np\n",
        "import matplotlib.pyplot as plt\n",
        "%matplotlib inline  \n",
        "\n",
        "import SpeechDownloader\n",
        "import SpeechGenerator\n",
        "import SpeechModels"
      ],
      "execution_count": 3,
      "outputs": [
        {
          "output_type": "stream",
          "text": [
            "Using TensorFlow backend.\n"
          ],
          "name": "stderr"
        }
      ]
    },
    {
      "metadata": {
        "colab_type": "code",
        "id": "a_sCoxN1yaqQ",
        "outputId": "505dc831-a176-4b62-f5be-c76e6c7e948f",
        "colab": {
          "base_uri": "https://localhost:8080/",
          "height": 204
        }
      },
      "cell_type": "code",
      "source": [
        "#Download and prepare all data\n",
        "gscInfo, nCategs = SpeechDownloader.PrepareGoogleSpeechCmd(version=1, task = '35word')"
      ],
      "execution_count": 5,
      "outputs": [
        {
          "output_type": "stream",
          "text": [
            "\r  0%|          | 0.00/69.6k [00:00<?, ?KB/s]"
          ],
          "name": "stderr"
        },
        {
          "output_type": "stream",
          "text": [
            "Downloading http://download.tensorflow.org/data/speech_commands_test_set_v0.01.tar.gz into sd_GSCmdV1/test.tar.gz\n"
          ],
          "name": "stdout"
        },
        {
          "output_type": "stream",
          "text": [
            "69.6kKB [00:01, 44.0kKB/s]                           \n",
            "  0%|          | 0.00/1.45M [00:00<?, ?KB/s]"
          ],
          "name": "stderr"
        },
        {
          "output_type": "stream",
          "text": [
            "Downloading http://download.tensorflow.org/data/speech_commands_v0.01.tar.gz into sd_GSCmdV1/train.tar.gz\n"
          ],
          "name": "stdout"
        },
        {
          "output_type": "stream",
          "text": [
            "1.45MKB [00:41, 35.3kKB/s]                           \n"
          ],
          "name": "stderr"
        },
        {
          "output_type": "stream",
          "text": [
            "Extracting sd_GSCmdV1/test.tar.gz into sd_GSCmdV1/test/\n",
            "Extracting sd_GSCmdV1/train.tar.gz into sd_GSCmdV1/train/\n"
          ],
          "name": "stdout"
        },
        {
          "output_type": "stream",
          "text": [
            "  0%|          | 1/3081 [00:00<06:26,  7.97it/s]"
          ],
          "name": "stderr"
        },
        {
          "output_type": "stream",
          "text": [
            "Converting test set WAVs to numpy files\n"
          ],
          "name": "stdout"
        },
        {
          "output_type": "stream",
          "text": [
            "100%|██████████| 3081/3081 [00:03<00:00, 963.63it/s] \n",
            "  0%|          | 0/64727 [00:00<?, ?it/s]"
          ],
          "name": "stderr"
        },
        {
          "output_type": "stream",
          "text": [
            "Converting training set WAVs to numpy files\n"
          ],
          "name": "stdout"
        },
        {
          "output_type": "stream",
          "text": [
            "100%|██████████| 64727/64727 [01:05<00:00, 992.83it/s] \n"
          ],
          "name": "stderr"
        },
        {
          "output_type": "stream",
          "text": [
            "Done preparing Google Speech commands dataset version 1\n"
          ],
          "name": "stdout"
        }
      ]
    },
    {
      "metadata": {
        "colab_type": "text",
        "id": "tzE5hypbyaqV"
      },
      "cell_type": "markdown",
      "source": [
        "We should have 4 datasets, each with file names 'files' and their categories 'labels' in a dict."
      ]
    },
    {
      "metadata": {
        "colab_type": "code",
        "id": "U6g2xDpVyaqW",
        "outputId": "895b9f47-4c26-437e-bc4e-423934028693",
        "colab": {
          "base_uri": "https://localhost:8080/",
          "height": 85
        }
      },
      "cell_type": "code",
      "source": [
        "print(gscInfo.keys())\n",
        "print(gscInfo['train'].keys())\n",
        "print(len(gscInfo['train']['files']))\n",
        "print(nCategs)"
      ],
      "execution_count": 6,
      "outputs": [
        {
          "output_type": "stream",
          "text": [
            "dict_keys(['train', 'test', 'val', 'testREAL'])\n",
            "dict_keys(['files', 'labels'])\n",
            "51094\n",
            "36\n"
          ],
          "name": "stdout"
        }
      ]
    },
    {
      "metadata": {
        "colab_type": "text",
        "id": "kr5bibxhyaqa"
      },
      "cell_type": "markdown",
      "source": [
        "# Speech Data Generator\n",
        "\n",
        "Use Keras to create a generator that reads files on the fly."
      ]
    },
    {
      "metadata": {
        "colab_type": "code",
        "id": "AXGWLGsGyaqc",
        "outputId": "e15ce425-287a-4fee-d7c4-14cf240cb21d",
        "colab": {
          "base_uri": "https://localhost:8080/",
          "height": 34
        }
      },
      "cell_type": "code",
      "source": [
        "sr=16000 #we know this one for google audios\n",
        "iLen = 16000\n",
        "trainGen = SpeechGenerator.SpeechGen(gscInfo['train']['files'], gscInfo['train']['labels'], shuffle=True)\n",
        "#handle the fact that number of samples in validation may not be multiple of batch_size with shuffle=True\n",
        "valGen   = SpeechGenerator.SpeechGen(gscInfo['val']['files'], gscInfo['val']['labels'], shuffle=True)\n",
        "\n",
        "#use batch_size = total number of files to read all test files at once\n",
        "testGen  = SpeechGenerator.SpeechGen(gscInfo['test']['files'], gscInfo['test']['labels'], shuffle=False, batch_size=len(gscInfo['test']['files']))\n",
        "testRGen = SpeechGenerator.SpeechGen(gscInfo['testREAL']['files'], gscInfo['testREAL']['labels'], shuffle=False, batch_size=len(gscInfo['testREAL']['files']))\n",
        "valGen.__len__()"
      ],
      "execution_count": 7,
      "outputs": [
        {
          "output_type": "execute_result",
          "data": {
            "text/plain": [
              "106"
            ]
          },
          "metadata": {
            "tags": []
          },
          "execution_count": 7
        }
      ]
    },
    {
      "metadata": {
        "colab_type": "code",
        "id": "Q5bNHwXgyaqh",
        "outputId": "33f7a643-cd6c-4462-ecb5-5ebd5ad7d5a9",
        "colab": {
          "base_uri": "https://localhost:8080/",
          "height": 85
        }
      },
      "cell_type": "code",
      "source": [
        "audios, classes = valGen.__getitem__(6)\n",
        "classes"
      ],
      "execution_count": 8,
      "outputs": [
        {
          "output_type": "execute_result",
          "data": {
            "text/plain": [
              "array([24,  8, 17, 20, 12, 10,  1,  2, 16,  4,  1, 16, 24, 19, 18, 17, 11,\n",
              "       11, 31,  2, 18, 35, 23, 23, 11, 14,  3, 10, 24, 11,  5,  1,  9,  6,\n",
              "       32, 17, 14, 29, 12, 33, 31,  6,  2, 15,  8, 29, 19, 14, 29,  9, 28,\n",
              "       31, 22, 31, 10, 10, 15, 12, 10, 23, 14,  2, 35, 20])"
            ]
          },
          "metadata": {
            "tags": []
          },
          "execution_count": 8
        }
      ]
    },
    {
      "metadata": {
        "colab_type": "code",
        "id": "0WUYY8akyaql",
        "outputId": "c982fec8-1c9c-4b4e-abbf-d854bff5fbf4",
        "colab": {
          "base_uri": "https://localhost:8080/",
          "height": 285
        }
      },
      "cell_type": "code",
      "source": [
        "librosa.output.write_wav('file.wav', audios[5], sr, norm=False)\n",
        "plt.plot(audios[5])"
      ],
      "execution_count": 9,
      "outputs": [
        {
          "output_type": "execute_result",
          "data": {
            "text/plain": [
              "[<matplotlib.lines.Line2D at 0x7f6238693630>]"
            ]
          },
          "metadata": {
            "tags": []
          },
          "execution_count": 9
        },
        {
          "output_type": "display_data",
          "data": {
            "image/png": "[encoded data removed]",
            "text/plain": [
              "<Figure size 432x288 with 1 Axes>"
            ]
          },
          "metadata": {
            "tags": []
          }
        }
      ]
    },
    {
      "metadata": {
        "colab_type": "code",
        "id": "1jz56x1Jyaqp",
        "outputId": "8feb38a6-46d9-44bf-ead9-09e6b8c86660",
        "colab": {
          "base_uri": "https://localhost:8080/",
          "height": 275
        }
      },
      "cell_type": "code",
      "source": [
        "from keras.models import Sequential\n",
        "from kapre.time_frequency import Melspectrogram, Spectrogram\n",
        "from kapre.utils import Normalization2D\n",
        "\n",
        "melspecModel = Sequential()\n",
        "\n",
        "melspecModel.add(Melspectrogram(n_dft=1024, n_hop=128, input_shape=(1, iLen),\n",
        "                         padding='same', sr=sr, n_mels=80,\n",
        "                         fmin=40.0, fmax=sr/2, power_melgram=1.0,\n",
        "                         return_decibel_melgram=True, trainable_fb=False,\n",
        "                         trainable_kernel=False,\n",
        "                         name='mel_stft') )\n",
        "\n",
        "melspecModel.add(Normalization2D(int_axis=0))\n",
        "\n",
        "melspecModel.summary()"
      ],
      "execution_count": 10,
      "outputs": [
        {
          "output_type": "stream",
          "text": [
            "WARNING:tensorflow:From /usr/local/lib/python3.6/dist-packages/tensorflow/python/framework/op_def_library.py:263: colocate_with (from tensorflow.python.framework.ops) is deprecated and will be removed in a future version.\n",
            "Instructions for updating:\n",
            "Colocations handled automatically by placer.\n",
            "_________________________________________________________________\n",
            "Layer (type)                 Output Shape              Param #   \n",
            "=================================================================\n",
            "mel_stft (Melspectrogram)    (None, 80, 125, 1)        1091664   \n",
            "_________________________________________________________________\n",
            "normalization2d_1 (Normaliza (None, 80, 125, 1)        0         \n",
            "=================================================================\n",
            "Total params: 1,091,664\n",
            "Trainable params: 0\n",
            "Non-trainable params: 1,091,664\n",
            "_________________________________________________________________\n"
          ],
          "name": "stdout"
        }
      ]
    },
    {
      "metadata": {
        "colab_type": "code",
        "id": "EdDdxD-Cyaqt",
        "outputId": "5e298635-98a4-403f-ce43-50362cefb8cf",
        "colab": {
          "base_uri": "https://localhost:8080/",
          "height": 34
        }
      },
      "cell_type": "code",
      "source": [
        "melspec = melspecModel.predict( audios.reshape((-1,1,iLen)) )\n",
        "melspec.shape"
      ],
      "execution_count": 11,
      "outputs": [
        {
          "output_type": "execute_result",
          "data": {
            "text/plain": [
              "(64, 80, 125, 1)"
            ]
          },
          "metadata": {
            "tags": []
          },
          "execution_count": 11
        }
      ]
    },
    {
      "metadata": {
        "colab_type": "code",
        "id": "sg0mFYbEyaq0",
        "outputId": "4abaf6d1-fc21-4fb5-f716-cf6e01f4364a",
        "colab": {
          "base_uri": "https://localhost:8080/",
          "height": 403
        }
      },
      "cell_type": "code",
      "source": [
        "plt.figure(figsize=(17,6))\n",
        "plt.pcolormesh(melspec[3,:,:,0])\n",
        "\n",
        "plt.title('Spectrogram visualization')\n",
        "plt.ylabel('Frequency')\n",
        "plt.xlabel('Time')\n",
        "\n",
        "plt.show()"
      ],
      "execution_count": 12,
      "outputs": [
        {
          "output_type": "display_data",
          "data": {
            "image/png": "[encoded data removed]",
            "text/plain": [
              "<Figure size 1224x432 with 1 Axes>"
            ]
          },
          "metadata": {
            "tags": []
          }
        }
      ]
    },
    {
      "metadata": {
        "id": "PitS18BD--9p",
        "colab_type": "code",
        "colab": {
          "base_uri": "https://localhost:8080/",
          "height": 979
        },
        "outputId": "d6bfbf3b-9ffd-4676-e6ca-435c454e6144"
      },
      "cell_type": "code",
      "source": [
        "plt.hist(melspec.flatten(), bins=100)"
      ],
      "execution_count": 13,
      "outputs": [
        {
          "output_type": "execute_result",
          "data": {
            "text/plain": [
              "(array([4.8000e+02, 0.0000e+00, 0.0000e+00, 3.0000e+00, 5.0000e+00,\n",
              "        2.4000e+01, 2.1000e+01, 2.3000e+01, 5.0000e+01, 6.3000e+01,\n",
              "        1.3300e+02, 1.6800e+02, 1.9300e+02, 1.3600e+03, 1.0320e+03,\n",
              "        5.1700e+02, 5.1900e+02, 1.7560e+03, 4.2500e+02, 5.4400e+02,\n",
              "        5.7600e+02, 8.9100e+02, 3.0760e+03, 1.2230e+03, 1.5220e+03,\n",
              "        1.8370e+03, 2.5470e+03, 3.5190e+03, 5.3220e+03, 7.4360e+03,\n",
              "        1.0204e+04, 1.7923e+04, 1.7851e+04, 2.1622e+04, 2.5250e+04,\n",
              "        2.8202e+04, 2.9376e+04, 2.7723e+04, 2.5270e+04, 2.3606e+04,\n",
              "        2.1823e+04, 2.1258e+04, 2.0910e+04, 2.0738e+04, 2.1171e+04,\n",
              "        2.0637e+04, 2.0567e+04, 1.9858e+04, 1.8263e+04, 1.6563e+04,\n",
              "        1.5376e+04, 1.3894e+04, 1.2911e+04, 1.2307e+04, 1.1350e+04,\n",
              "        1.0853e+04, 1.0234e+04, 9.5080e+03, 8.6380e+03, 8.0710e+03,\n",
              "        7.3340e+03, 6.5680e+03, 5.9780e+03, 5.3430e+03, 5.0640e+03,\n",
              "        4.6690e+03, 4.1850e+03, 3.8600e+03, 3.3380e+03, 2.9390e+03,\n",
              "        2.6640e+03, 2.1380e+03, 1.8560e+03, 1.6300e+03, 1.2600e+03,\n",
              "        9.9100e+02, 7.3600e+02, 5.9300e+02, 4.4100e+02, 3.2700e+02,\n",
              "        2.6000e+02, 1.8100e+02, 1.0300e+02, 5.5000e+01, 4.5000e+01,\n",
              "        4.5000e+01, 4.4000e+01, 2.9000e+01, 7.0000e+00, 1.0000e+01,\n",
              "        1.5000e+01, 2.9000e+01, 6.0000e+00, 5.0000e+00, 6.0000e+00,\n",
              "        1.2000e+01, 3.0000e+00, 2.0000e+00, 2.0000e+00, 5.0000e+00]),\n",
              " array([-3.94080067, -3.8516536 , -3.76250654, -3.67335948, -3.58421242,\n",
              "        -3.49506536, -3.40591829, -3.31677123, -3.22762417, -3.13847711,\n",
              "        -3.04933004, -2.96018298, -2.87103592, -2.78188886, -2.69274179,\n",
              "        -2.60359473, -2.51444767, -2.42530061, -2.33615355, -2.24700648,\n",
              "        -2.15785942, -2.06871236, -1.9795653 , -1.89041823, -1.80127117,\n",
              "        -1.71212411, -1.62297705, -1.53382998, -1.44468292, -1.35553586,\n",
              "        -1.2663888 , -1.17724174, -1.08809467, -0.99894761, -0.90980055,\n",
              "        -0.82065349, -0.73150642, -0.64235936, -0.5532123 , -0.46406524,\n",
              "        -0.37491817, -0.28577111, -0.19662405, -0.10747699, -0.01832993,\n",
              "         0.07081714,  0.1599642 ,  0.24911126,  0.33825832,  0.42740539,\n",
              "         0.51655245,  0.60569951,  0.69484657,  0.78399364,  0.8731407 ,\n",
              "         0.96228776,  1.05143482,  1.14058188,  1.22972895,  1.31887601,\n",
              "         1.40802307,  1.49717013,  1.5863172 ,  1.67546426,  1.76461132,\n",
              "         1.85375838,  1.94290545,  2.03205251,  2.12119957,  2.21034663,\n",
              "         2.29949369,  2.38864076,  2.47778782,  2.56693488,  2.65608194,\n",
              "         2.74522901,  2.83437607,  2.92352313,  3.01267019,  3.10181726,\n",
              "         3.19096432,  3.28011138,  3.36925844,  3.4584055 ,  3.54755257,\n",
              "         3.63669963,  3.72584669,  3.81499375,  3.90414082,  3.99328788,\n",
              "         4.08243494,  4.171582  ,  4.26072906,  4.34987613,  4.43902319,\n",
              "         4.52817025,  4.61731731,  4.70646438,  4.79561144,  4.8847585 ,\n",
              "         4.97390556]),\n",
              " <a list of 100 Patch objects>)"
            ]
          },
          "metadata": {
            "tags": []
          },
          "execution_count": 13
        },
        {
          "output_type": "display_data",
          "data": {
            "image/png": "[encoded data removed]",
            "text/plain": [
              "<Figure size 432x288 with 1 Axes>"
            ]
          },
          "metadata": {
            "tags": []
          }
        }
      ]
    },
    {
      "metadata": {
        "colab_type": "text",
        "id": "suRQj5Dayaq5"
      },
      "cell_type": "markdown",
      "source": [
        "# Models\n",
        "\n",
        "Create Keras models to see if the generators are working properly"
      ]
    },
    {
      "metadata": {
        "colab_type": "code",
        "id": "bArepYbcyaq7",
        "colab": {}
      },
      "cell_type": "code",
      "source": [
        "from keras.models import Model, load_model\n",
        "\n",
        "from keras.layers import Input, Activation, Concatenate, Permute, Reshape, Flatten, Lambda, Dot, Softmax\n",
        "from keras.layers import Add, Dropout, BatchNormalization, Conv2D, Reshape, MaxPooling2D, Dense, CuDNNLSTM, Bidirectional\n",
        "from keras import backend as K\n",
        "from keras.utils import to_categorical\n",
        "from keras.callbacks import EarlyStopping, ModelCheckpoint, LearningRateScheduler\n",
        "from keras import backend as K\n",
        "from keras import optimizers\n",
        "\n",
        "from kapre.time_frequency import Melspectrogram, Spectrogram"
      ],
      "execution_count": 0,
      "outputs": []
    },
    {
      "metadata": {
        "colab_type": "code",
        "id": "eJIjgckXyarF",
        "outputId": "27f4552b-677a-4a65-b4eb-719901c42e02",
        "colab": {
          "base_uri": "https://localhost:8080/",
          "height": 850
        }
      },
      "cell_type": "code",
      "source": [
        "#self-attention LSTM\n",
        "model = SpeechModels.AttRNNSpeechModel(nCategs, samplingrate = sr, inputLength = iLen)\n",
        "\n",
        "model.compile(optimizer='adam', loss=['sparse_categorical_crossentropy'], metrics=['sparse_categorical_accuracy'])\n",
        "model.summary()"
      ],
      "execution_count": 15,
      "outputs": [
        {
          "output_type": "stream",
          "text": [
            "__________________________________________________________________________________________________\n",
            "Layer (type)                    Output Shape         Param #     Connected to                     \n",
            "==================================================================================================\n",
            "input_1 (InputLayer)            (None, 16000)        0                                            \n",
            "__________________________________________________________________________________________________\n",
            "reshape_1 (Reshape)             (None, 1, 16000)     0           input_1[0][0]                    \n",
            "__________________________________________________________________________________________________\n",
            "mel_stft (Melspectrogram)       (None, 80, 125, 1)   1091664     reshape_1[0][0]                  \n",
            "__________________________________________________________________________________________________\n",
            "normalization2d_2 (Normalizatio (None, 80, 125, 1)   0           mel_stft[0][0]                   \n",
            "__________________________________________________________________________________________________\n",
            "permute_1 (Permute)             (None, 125, 80, 1)   0           normalization2d_2[0][0]          \n",
            "__________________________________________________________________________________________________\n",
            "conv2d_1 (Conv2D)               (None, 125, 80, 10)  60          permute_1[0][0]                  \n",
            "__________________________________________________________________________________________________\n",
            "batch_normalization_1 (BatchNor (None, 125, 80, 10)  40          conv2d_1[0][0]                   \n",
            "__________________________________________________________________________________________________\n",
            "conv2d_2 (Conv2D)               (None, 125, 80, 1)   51          batch_normalization_1[0][0]      \n",
            "__________________________________________________________________________________________________\n",
            "batch_normalization_2 (BatchNor (None, 125, 80, 1)   4           conv2d_2[0][0]                   \n",
            "__________________________________________________________________________________________________\n",
            "squeeze_last_dim (Lambda)       (None, 125, 80)      0           batch_normalization_2[0][0]      \n",
            "__________________________________________________________________________________________________\n",
            "bidirectional_1 (Bidirectional) (None, 125, 128)     74752       squeeze_last_dim[0][0]           \n",
            "__________________________________________________________________________________________________\n",
            "bidirectional_2 (Bidirectional) (None, 125, 128)     99328       bidirectional_1[0][0]            \n",
            "__________________________________________________________________________________________________\n",
            "lambda_1 (Lambda)               (None, 128)          0           bidirectional_2[0][0]            \n",
            "__________________________________________________________________________________________________\n",
            "dense_1 (Dense)                 (None, 128)          16512       lambda_1[0][0]                   \n",
            "__________________________________________________________________________________________________\n",
            "dot_1 (Dot)                     (None, 125)          0           dense_1[0][0]                    \n",
            "                                                                 bidirectional_2[0][0]            \n",
            "__________________________________________________________________________________________________\n",
            "attSoftmax (Softmax)            (None, 125)          0           dot_1[0][0]                      \n",
            "__________________________________________________________________________________________________\n",
            "dot_2 (Dot)                     (None, 128)          0           attSoftmax[0][0]                 \n",
            "                                                                 bidirectional_2[0][0]            \n",
            "__________________________________________________________________________________________________\n",
            "dense_2 (Dense)                 (None, 64)           8256        dot_2[0][0]                      \n",
            "__________________________________________________________________________________________________\n",
            "dense_3 (Dense)                 (None, 32)           2080        dense_2[0][0]                    \n",
            "__________________________________________________________________________________________________\n",
            "output (Dense)                  (None, 36)           1188        dense_3[0][0]                    \n",
            "==================================================================================================\n",
            "Total params: 1,293,935\n",
            "Trainable params: 202,249\n",
            "Non-trainable params: 1,091,686\n",
            "__________________________________________________________________________________________________\n"
          ],
          "name": "stdout"
        }
      ]
    },
    {
      "metadata": {
        "colab_type": "code",
        "id": "uH8Aa4-gyarI",
        "colab": {}
      },
      "cell_type": "code",
      "source": [
        "import math\n",
        "def step_decay(epoch):\n",
        "    initial_lrate = 0.001\n",
        "    drop = 0.4\n",
        "    epochs_drop = 10.0\n",
        "    lrate = initial_lrate * math.pow(drop,  \n",
        "            math.floor((1+epoch)/epochs_drop))\n",
        "    \n",
        "    if (lrate < 4e-5):\n",
        "        lrate = 4e-5\n",
        "      \n",
        "    print('Changing learning rate to {}'.format(lrate))\n",
        "    return lrate\n",
        "lrate = LearningRateScheduler(step_decay)"
      ],
      "execution_count": 0,
      "outputs": []
    },
    {
      "metadata": {
        "colab_type": "code",
        "id": "P4XKh-NdyarK",
        "scrolled": true,
        "colab": {}
      },
      "cell_type": "code",
      "source": [
        "earlystopper = EarlyStopping(monitor='val_sparse_categorical_accuracy', patience=10, verbose=1)\n",
        "checkpointer = ModelCheckpoint('model-attRNN.h5', monitor='val_sparse_categorical_accuracy', verbose=1, save_best_only=True)\n"
      ],
      "execution_count": 0,
      "outputs": []
    },
    {
      "metadata": {
        "id": "N4JgTpt6JikY",
        "colab_type": "code",
        "colab": {
          "base_uri": "https://localhost:8080/",
          "height": 4338
        },
        "outputId": "92813a11-91f5-4aed-a1cc-8eea7bc7f57f"
      },
      "cell_type": "code",
      "source": [
        "results = model.fit_generator(trainGen, validation_data = valGen, epochs = 40, use_multiprocessing=True, workers=4,\n",
        "                    callbacks=[earlystopper, checkpointer, lrate])"
      ],
      "execution_count": 23,
      "outputs": [
        {
          "output_type": "stream",
          "text": [
            "Epoch 1/40\n",
            "Changing learning rate to 0.001\n",
            "797/798 [============================>.] - ETA: 0s - loss: 0.1310 - sparse_categorical_accuracy: 0.9628Changing learning rate to 0.001\n",
            "798/798 [==============================] - 108s 135ms/step - loss: 0.1309 - sparse_categorical_accuracy: 0.9629 - val_loss: 0.2941 - val_sparse_categorical_accuracy: 0.9223\n",
            "\n",
            "Epoch 00001: val_sparse_categorical_accuracy did not improve from 0.93411\n",
            "Epoch 1/40\n",
            "Epoch 2/40\n",
            "Changing learning rate to 0.001\n",
            "Changing learning rate to 0.001\n",
            "798/798 [==============================] - 107s 134ms/step - loss: 0.1188 - sparse_categorical_accuracy: 0.9666 - val_loss: 0.2864 - val_sparse_categorical_accuracy: 0.9205\n",
            "\n",
            "Epoch 00002: val_sparse_categorical_accuracy did not improve from 0.93411\n",
            "Epoch 3/40\n",
            "Changing learning rate to 0.001\n",
            "798/798 [==============================] - 107s 134ms/step - loss: 0.0961 - sparse_categorical_accuracy: 0.9722 - val_loss: 0.2621 - val_sparse_categorical_accuracy: 0.9348\n",
            "\n",
            "Epoch 3/40\n",
            "Changing learning rate to 0.001\n",
            "\n",
            "Epoch 00003: val_sparse_categorical_accuracy improved from 0.93411 to 0.93485, saving model to model-attRNN.h5\n",
            "Epoch 4/40\n",
            "Changing learning rate to 0.001\n",
            "798/798 [==============================] - 107s 134ms/step - loss: 0.0870 - sparse_categorical_accuracy: 0.9760 - val_loss: 0.2819 - val_sparse_categorical_accuracy: 0.9298\n",
            "\n",
            "Epoch 00004: val_sparse_categorical_accuracy did not improve from 0.93485\n",
            "Epoch 5/40\n",
            "Changing learning rate to 0.001\n",
            "\n",
            "Epoch 00003: val_sparse_categorical_accuracy improved from 0.93411 to 0.93485, saving model to model-attRNN.h5\n",
            "798/798 [==============================] - 107s 134ms/step - loss: 0.1050 - sparse_categorical_accuracy: 0.9712 - val_loss: 0.2887 - val_sparse_categorical_accuracy: 0.9291\n",
            "\n",
            "Epoch 00005: val_sparse_categorical_accuracy did not improve from 0.93485\n",
            "Epoch 6/40\n",
            "Changing learning rate to 0.001\n",
            "798/798 [==============================] - 107s 134ms/step - loss: 0.0917 - sparse_categorical_accuracy: 0.9742 - val_loss: 0.3551 - val_sparse_categorical_accuracy: 0.9194\n",
            "\n",
            "Epoch 00006: val_sparse_categorical_accuracy did not improve from 0.93485\n",
            "Epoch 7/40\n",
            "Changing learning rate to 0.001\n",
            "Epoch 6/40\n",
            "798/798 [==============================] - 107s 135ms/step - loss: 0.0849 - sparse_categorical_accuracy: 0.9770 - val_loss: 0.2720 - val_sparse_categorical_accuracy: 0.9369\n",
            "\n",
            "Epoch 00007: val_sparse_categorical_accuracy improved from 0.93485 to 0.93691, saving model to model-attRNN.h5Changing learning rate to 0.001\n",
            "\n",
            "Epoch 8/40\n",
            "Changing learning rate to 0.001\n",
            "798/798 [==============================] - 107s 134ms/step - loss: 0.0786 - sparse_categorical_accuracy: 0.9786 - val_loss: 0.2953 - val_sparse_categorical_accuracy: 0.9320\n",
            "\n",
            "Epoch 00008: val_sparse_categorical_accuracy did not improve from 0.93691\n",
            "Epoch 9/40\n",
            "\n",
            "Changing learning rate to 0.001\n",
            "798/798 [==============================] - 107s 134ms/step - loss: 0.0668 - sparse_categorical_accuracy: 0.9816 - val_loss: 0.3290 - val_sparse_categorical_accuracy: 0.9290\n",
            "\n",
            "Epoch 00009: val_sparse_categorical_accuracy did not improve from 0.93691\n",
            "Epoch 10/40\n",
            "Changing learning rate to 0.0004\n",
            "797/798 [============================>.] - ETA: 0s - loss: 0.0391 - sparse_categorical_accuracy: 0.9900\b\b\b\b\b\b\b\b\b\b\b\b\b\b\b\b\b\b\b\b\b\b\b\b\b\b\b\b\b\b\b\b\b\b\b\b\b\b\b\b\b\b\b\b\b\b\b\b\b\b\b\b\b\b\b\b\b\b\b\b\b\b\b\b\b\b\b\b\b\b\b\b\b\b\b\b\b\b\b\b\b\b\b\b\b\b\b\b\b\b\b\b\b\b\b\b\b\b\b\b\b\b\b\n",
            "Epoch 10/40\n",
            "Changing learning rate to 0.0004\n",
            "798/798 [==============================] - 107s 134ms/step - loss: 0.0391 - sparse_categorical_accuracy: 0.9900 - val_loss: 0.2888 - val_sparse_categorical_accuracy: 0.9407\n",
            "\n",
            "Epoch 00010: val_sparse_categorical_accuracy improved from 0.93691 to 0.94074, saving model to model-attRNN.h5\n",
            "Epoch 11/40\n",
            "Changing learning rate to 0.0004\n",
            "798/798 [==============================] - 107s 134ms/step - loss: 0.0277 - sparse_categorical_accuracy: 0.9933 - val_loss: 0.3123 - val_sparse_categorical_accuracy: 0.9340\n",
            "\n",
            "Epoch 00011: val_sparse_categorical_accuracy did not improve from 0.94074\n",
            "Epoch 12/40\n",
            "Changing learning rate to 0.0004\n",
            "798/798 [==============================] - 107s 134ms/step - loss: 0.0242 - sparse_categorical_accuracy: 0.9942 - val_loss: 0.2767 - val_sparse_categorical_accuracy: 0.9432\n",
            "\n",
            "Epoch 00012: val_sparse_categorical_accuracy improved from 0.94074 to 0.94325, saving model to model-attRNN.h5\n",
            "\n",
            "Epoch 12/40\n",
            "Epoch 13/40\n",
            "Changing learning rate to 0.0004\n",
            "798/798 [==============================] - 107s 134ms/step - loss: 0.0180 - sparse_categorical_accuracy: 0.9962 - val_loss: 0.3161 - val_sparse_categorical_accuracy: 0.9391\n",
            "\n",
            "\n",
            "Epoch 00013: val_sparse_categorical_accuracy did not improve from 0.94325\n",
            "Epoch 14/40\n",
            "Changing learning rate to 0.0004\n",
            "798/798 [==============================] - 107s 134ms/step - loss: 0.0243 - sparse_categorical_accuracy: 0.9939 - val_loss: 0.3351 - val_sparse_categorical_accuracy: 0.9359\n",
            "\n",
            "Epoch 00014: val_sparse_categorical_accuracy did not improve from 0.94325\n",
            "Epoch 15/40\n",
            "Changing learning rate to 0.0004\n",
            "Epoch 14/40\n",
            "798/798 [==============================] - 107s 135ms/step - loss: 0.0226 - sparse_categorical_accuracy: 0.9948 - val_loss: 0.3484 - val_sparse_categorical_accuracy: 0.9325\n",
            "\n",
            "Epoch 00015: val_sparse_categorical_accuracy did not improve from 0.94325\n",
            "Epoch 00014: val_sparse_categorical_accuracy did not improve from 0.94325\n",
            "Epoch 15/40\n",
            "Changing learning rate to 0.0004\n",
            "\n",
            "Epoch 16/40\n",
            "Changing learning rate to 0.0004\n",
            "798/798 [==============================] - 107s 134ms/step - loss: 0.0235 - sparse_categorical_accuracy: 0.9953 - val_loss: 0.3138 - val_sparse_categorical_accuracy: 0.9434\n",
            "\n",
            "Epoch 16/40\n",
            "Changing learning rate to 0.0004\n",
            "\n",
            "Epoch 00016: val_sparse_categorical_accuracy improved from 0.94325 to 0.94340, saving model to model-attRNN.h5\n",
            "Epoch 17/40\n",
            "Changing learning rate to 0.0004\n",
            "798/798 [==============================] - 107s 134ms/step - loss: 0.0159 - sparse_categorical_accuracy: 0.9971 - val_loss: 0.3745 - val_sparse_categorical_accuracy: 0.9309\n",
            "\n",
            "\n",
            "Epoch 00017: val_sparse_categorical_accuracy did not improve from 0.94340\n",
            "Epoch 18/40\n",
            "Changing learning rate to 0.0004\n",
            "798/798 [==============================] - 107s 134ms/step - loss: 0.0184 - sparse_categorical_accuracy: 0.9958 - val_loss: 0.3449 - val_sparse_categorical_accuracy: 0.9387\n",
            "\n",
            "Epoch 18/40\n",
            "Epoch 00018: val_sparse_categorical_accuracy did not improve from 0.94340\n",
            "Epoch 19/40\n",
            "Changing learning rate to 0.0004\n",
            "797/798 [============================>.] - ETA: 0s - loss: 0.0151 - sparse_categorical_accuracy: 0.9973Changing learning rate to 0.0004\n",
            "798/798 [==============================] - 107s 134ms/step - loss: 0.0151 - sparse_categorical_accuracy: 0.9973 - val_loss: 0.3336 - val_sparse_categorical_accuracy: 0.9430\n",
            "\n",
            "Epoch 00019: val_sparse_categorical_accuracy did not improve from 0.94340\n",
            "Epoch 20/40\n",
            "Changing learning rate to 0.00016000000000000004\n",
            "798/798 [==============================] - 107s 134ms/step - loss: 0.0070 - sparse_categorical_accuracy: 0.9990 - val_loss: 0.3207 - val_sparse_categorical_accuracy: 0.9452\n",
            "\n",
            "Epoch 00020: val_sparse_categorical_accuracy improved from 0.94340 to 0.94517, saving model to model-attRNN.h5\n",
            "Epoch 21/40\n",
            "Changing learning rate to 0.00016000000000000004\n",
            "798/798 [==============================] - 107s 134ms/step - loss: 0.0110 - sparse_categorical_accuracy: 0.9987 - val_loss: 0.4115 - val_sparse_categorical_accuracy: 0.9263\n",
            "\n",
            "Epoch 00021: val_sparse_categorical_accuracy did not improve from 0.94517\n",
            "\n",
            "Epoch 22/40\n",
            "Changing learning rate to 0.00016000000000000004\n",
            "798/798 [==============================] - 107s 134ms/step - loss: 0.0099 - sparse_categorical_accuracy: 0.9987 - val_loss: 0.3942 - val_sparse_categorical_accuracy: 0.9323\n",
            "\n",
            "Epoch 22/40\n",
            "Epoch 00022: val_sparse_categorical_accuracy did not improve from 0.94517\n",
            "Epoch 23/40\n",
            "Changing learning rate to 0.00016000000000000004\n",
            "797/798 [============================>.] - ETA: 0s - loss: 0.0134 - sparse_categorical_accuracy: 0.9978\b\b\b\b\b\b\b\b\b\b\b\b\b\b\b\b\b\b\b\b\b\b\b\b\b\b\b\b\b\b\b\b\b\b\b\b\b\b\b\b\b\b\b\b\b\b\b\b\b\b\b\b\b\b\b\b\b\b\b\b\b\b\b\b\b\b\b\b\b\b\b\b\b\b\b\b\b\b\b\b\b\b\b\b\b\b\b\b\b\b\b\b\b\b\b\b\b\b\b\b\b\b\b\n",
            "Epoch 00022: val_sparse_categorical_accuracy did not improve from 0.94517\n",
            "Epoch 23/40\n",
            "798/798 [==============================] - 107s 134ms/step - loss: 0.0134 - sparse_categorical_accuracy: 0.9978 - val_loss: 0.3716 - val_sparse_categorical_accuracy: 0.9344\n",
            "\n",
            "Epoch 00023: val_sparse_categorical_accuracy did not improve from 0.94517\n",
            "Epoch 24/40\n",
            "Changing learning rate to 0.00016000000000000004\n",
            "798/798 [==============================] - 107s 134ms/step - loss: 0.0213 - sparse_categorical_accuracy: 0.9956 - val_loss: 0.3431 - val_sparse_categorical_accuracy: 0.9438\n",
            "\n",
            "Epoch 00024: val_sparse_categorical_accuracy did not improve from 0.94517\n",
            "Epoch 25/40\n",
            "Changing learning rate to 0.00016000000000000004\n",
            "798/798 [==============================] - 107s 134ms/step - loss: 0.0066 - sparse_categorical_accuracy: 0.9994 - val_loss: 0.3509 - val_sparse_categorical_accuracy: 0.9432\n",
            "\n",
            "Epoch 00025: val_sparse_categorical_accuracy did not improve from 0.94517\n",
            "Epoch 26/40\n",
            "Changing learning rate to 0.00016000000000000004\n",
            "Changing learning rate to 0.00016000000000000004\n",
            "798/798 [==============================] - 107s 134ms/step - loss: 0.0093 - sparse_categorical_accuracy: 0.9990 - val_loss: 0.4203 - val_sparse_categorical_accuracy: 0.9263\n",
            "Changing learning rate to 0.00016000000000000004\n",
            "\n",
            "Epoch 00026: val_sparse_categorical_accuracy did not improve from 0.94517\n",
            "Epoch 27/40\n",
            "Changing learning rate to 0.00016000000000000004\n",
            "798/798 [==============================] - 107s 134ms/step - loss: 0.0057 - sparse_categorical_accuracy: 0.9994 - val_loss: 0.3541 - val_sparse_categorical_accuracy: 0.9453\n",
            "\n",
            "Epoch 00027: val_sparse_categorical_accuracy improved from 0.94517 to 0.94531, saving model to model-attRNN.h5\n",
            "\n",
            "Epoch 00026: val_sparse_categorical_accuracy did not improve from 0.94517Epoch 28/40\n",
            "Changing learning rate to 0.00016000000000000004\n",
            "798/798 [==============================] - 107s 134ms/step - loss: 0.0146 - sparse_categorical_accuracy: 0.9968 - val_loss: 0.3625 - val_sparse_categorical_accuracy: 0.9438\n",
            "\n",
            "Epoch 00028: val_sparse_categorical_accuracy did not improve from 0.94531\n",
            "Epoch 29/40\n",
            "Changing learning rate to 0.00016000000000000004\n",
            "798/798 [==============================] - 107s 134ms/step - loss: 0.0122 - sparse_categorical_accuracy: 0.9977 - val_loss: 0.3695 - val_sparse_categorical_accuracy: 0.9419\n",
            "\b\b\b\b\b\b\b\b\b\b\b\b\b\b\b\b\b\b\b\b\b\b\b\b\b\b\b\b\b\b\b\b\b\b\b\b\b\b\b\b\b\b\b\b\b\b\b\b\b\b\b\b\b\b\b\b\b\b\b\b\b\b\b\b\b\b\b\b\b\b\b\b\b\b\b\b\b\b\b\b\b\b\b\b\b\b\b\b\b\b\b\b\b\b\b\b\b\b\b\b\b\b\b\n",
            "Epoch 00029: val_sparse_categorical_accuracy did not improve from 0.94531\n",
            "Epoch 30/40\n",
            "Changing learning rate to 6.400000000000001e-05\n",
            "798/798 [==============================] - 107s 134ms/step - loss: 0.0094 - sparse_categorical_accuracy: 0.9982 - val_loss: 0.3468 - val_sparse_categorical_accuracy: 0.9444\n",
            "\n",
            "Epoch 00030: val_sparse_categorical_accuracy did not improve from 0.94531\n",
            "Epoch 31/40\n",
            "Changing learning rate to 6.400000000000001e-05\n",
            "797/798 [============================>.] - ETA: 0s - loss: 0.0044 - sparse_categorical_accuracy: 0.9995\b\b\b\b\b\b\b\b\b\b\b\b\b\b\b\b\b\b\b\b\b\b\b\b\b\b\b\b\b\b\b\b\b\b\b\b\b\b\b\b\b\b\b\b\b\b\b\b\b\b\b\b\b\b\b\b\b\b\b\b\b\b\b\b\b\b\b\b\b\b\b\b\b\b\b\b\b\b\b\b\b\b\b\b\b\b\b\b\b\b\b\b\b\b\b\b\b\b\b\b\b\b\b\n",
            "Epoch 31/40\n",
            "Changing learning rate to 6.400000000000001e-05\n",
            "798/798 [==============================] - 107s 134ms/step - loss: 0.0044 - sparse_categorical_accuracy: 0.9995 - val_loss: 0.3561 - val_sparse_categorical_accuracy: 0.9447\n",
            "\n",
            "Epoch 00031: val_sparse_categorical_accuracy did not improve from 0.94531\n",
            "Epoch 32/40\n",
            "Changing learning rate to 6.400000000000001e-05\n",
            "798/798 [==============================] - 107s 134ms/step - loss: 0.0039 - sparse_categorical_accuracy: 0.9995 - val_loss: 0.3649 - val_sparse_categorical_accuracy: 0.9447\n",
            "\n",
            "Epoch 00032: val_sparse_categorical_accuracy did not improve from 0.94531\n",
            "Epoch 33/40\n",
            "Changing learning rate to 6.400000000000001e-05\n",
            "797/798 [============================>.] - ETA: 0s - loss: 0.0041 - sparse_categorical_accuracy: 0.9996\n",
            "Epoch 33/40\n",
            "Changing learning rate to 6.400000000000001e-05\n",
            "798/798 [==============================] - 109s 136ms/step - loss: 0.0041 - sparse_categorical_accuracy: 0.9996 - val_loss: 0.4897 - val_sparse_categorical_accuracy: 0.9200\n",
            "\n",
            "Epoch 00033: val_sparse_categorical_accuracy did not improve from 0.94531\n",
            "Epoch 34/40\n",
            "Changing learning rate to 6.400000000000001e-05\n",
            "798/798 [==============================] - 109s 136ms/step - loss: 0.0140 - sparse_categorical_accuracy: 0.9969 - val_loss: 0.3660 - val_sparse_categorical_accuracy: 0.9444\n",
            "\n",
            "Epoch 00033: val_sparse_categorical_accuracy did not improve from 0.94531\n",
            "\n",
            "Epoch 00034: val_sparse_categorical_accuracy did not improve from 0.94531\n",
            "Epoch 35/40\n",
            "Changing learning rate to 6.400000000000001e-05\n",
            "797/798 [============================>.] - ETA: 0s - loss: 0.0133 - sparse_categorical_accuracy: 0.9971\n",
            "Epoch 00034: val_sparse_categorical_accuracy did not improve from 0.94531\n",
            "Epoch 35/40\n",
            "Changing learning rate to 6.400000000000001e-05\n",
            "798/798 [==============================] - 109s 137ms/step - loss: 0.0133 - sparse_categorical_accuracy: 0.9971 - val_loss: 0.4137 - val_sparse_categorical_accuracy: 0.9348\n",
            "\n",
            "Epoch 00035: val_sparse_categorical_accuracy did not improve from 0.94531\n",
            "Epoch 36/40\n",
            "Changing learning rate to 6.400000000000001e-05\n",
            "798/798 [==============================] - 109s 137ms/step - loss: 0.0040 - sparse_categorical_accuracy: 0.9995 - val_loss: 0.3668 - val_sparse_categorical_accuracy: 0.9460\n",
            "Epoch 36/40\n",
            "\n",
            "Epoch 00036: val_sparse_categorical_accuracy improved from 0.94531 to 0.94605, saving model to model-attRNN.h5\n",
            "Epoch 37/40\n",
            "Changing learning rate to 6.400000000000001e-05\n",
            "797/798 [============================>.] - ETA: 0s - loss: 0.0041 - sparse_categorical_accuracy: 0.9995\n",
            "Epoch 00036: val_sparse_categorical_accuracy improved from 0.94531 to 0.94605, saving model to model-attRNN.h5\n",
            "798/798 [==============================] - 110s 138ms/step - loss: 0.0041 - sparse_categorical_accuracy: 0.9995 - val_loss: 0.3707 - val_sparse_categorical_accuracy: 0.9450\n",
            "\n",
            "Epoch 00037: val_sparse_categorical_accuracy did not improve from 0.94605\n",
            "Epoch 38/40\n",
            "Changing learning rate to 6.400000000000001e-05\n",
            "798/798 [==============================] - 110s 137ms/step - loss: 0.0037 - sparse_categorical_accuracy: 0.9996 - val_loss: 0.3702 - val_sparse_categorical_accuracy: 0.9447\n",
            "\n",
            "Epoch 00038: val_sparse_categorical_accuracy did not improve from 0.94605\n",
            "Epoch 39/40\n",
            "Changing learning rate to 6.400000000000001e-05\n",
            "798/798 [==============================] - 110s 137ms/step - loss: 0.0042 - sparse_categorical_accuracy: 0.9995 - val_loss: 0.3828 - val_sparse_categorical_accuracy: 0.9450\n",
            "\n",
            "Epoch 00039: val_sparse_categorical_accuracy did not improve from 0.94605\n",
            "\n",
            "Changing learning rate to 6.400000000000001e-05\n",
            "Epoch 40/40\n",
            "Changing learning rate to 4e-05\n",
            "798/798 [==============================] - 110s 137ms/step - loss: 0.0056 - sparse_categorical_accuracy: 0.9995 - val_loss: 0.4294 - val_sparse_categorical_accuracy: 0.9329\n",
            "\n",
            "Epoch 00040: val_sparse_categorical_accuracy did not improve from 0.94605\n",
            "Epoch 40/40\n"
          ],
          "name": "stdout"
        }
      ]
    },
    {
      "metadata": {
        "colab_type": "code",
        "id": "KGaItJhiyarN",
        "outputId": "a22e6468-eb6f-40ea-a955-75665a94bfa9",
        "colab": {
          "base_uri": "https://localhost:8080/",
          "height": 571
        }
      },
      "cell_type": "code",
      "source": [
        "# summarize history for categorical accuracy\n",
        "plt.plot(results.history['sparse_categorical_accuracy'])\n",
        "plt.plot(results.history['val_sparse_categorical_accuracy'])\n",
        "plt.title('Categorical accuracy')\n",
        "plt.ylabel('accuracy')\n",
        "plt.xlabel('epoch')\n",
        "plt.legend(['train', 'test'], loc='upper left')\n",
        "plt.show()\n",
        "# summarize history for loss\n",
        "plt.plot(results.history['loss'])\n",
        "plt.plot(results.history['val_loss'])\n",
        "plt.title('model loss')\n",
        "plt.ylabel('loss')\n",
        "plt.xlabel('epoch')\n",
        "plt.legend(['train', 'test'], loc='upper left')\n",
        "plt.show()"
      ],
      "execution_count": 24,
      "outputs": [
        {
          "output_type": "display_data",
          "data": {
            "image/png": "[encoded data removed]",
            "text/plain": [
              "<Figure size 432x288 with 1 Axes>"
            ]
          },
          "metadata": {
            "tags": []
          }
        },
        {
          "output_type": "display_data",
          "data": {
            "image/png": "[encoded data removed]",
            "text/plain": [
              "<Figure size 432x288 with 1 Axes>"
            ]
          },
          "metadata": {
            "tags": []
          }
        }
      ]
    },
    {
      "metadata": {
        "scrolled": true,
        "id": "PzvDLHyj---j",
        "colab_type": "code",
        "colab": {
          "base_uri": "https://localhost:8080/",
          "height": 3417
        },
        "outputId": "ad71b7ae-8648-49b6-88e7-feefabba246c"
      },
      "cell_type": "code",
      "source": [
        "results.history"
      ],
      "execution_count": 25,
      "outputs": [
        {
          "output_type": "execute_result",
          "data": {
            "text/plain": [
              "{'loss': [0.13090084965765608,\n",
              "  0.11878842646127712,\n",
              "  0.09609312397053811,\n",
              "  0.08699976739428125,\n",
              "  0.10501501428104591,\n",
              "  0.09168092966666748,\n",
              "  0.08490676940232049,\n",
              "  0.07861526606704825,\n",
              "  0.06681188937442326,\n",
              "  0.039084751218290976,\n",
              "  0.027722510642038435,\n",
              "  0.024213498413580208,\n",
              "  0.018002492617711426,\n",
              "  0.024270092847448205,\n",
              "  0.022552468361711254,\n",
              "  0.023526969562240117,\n",
              "  0.015937279331095976,\n",
              "  0.018426859999255116,\n",
              "  0.01507231509408359,\n",
              "  0.006994204431424336,\n",
              "  0.010976179262091188,\n",
              "  0.009869442829931768,\n",
              "  0.01338489833697874,\n",
              "  0.02134248063184782,\n",
              "  0.006580659420698092,\n",
              "  0.009271938848743779,\n",
              "  0.005708922577619354,\n",
              "  0.014630069481697313,\n",
              "  0.012203323496644481,\n",
              "  0.009376267657899007,\n",
              "  0.0043956951175201115,\n",
              "  0.003924849526517111,\n",
              "  0.004082468113667807,\n",
              "  0.01401447963792208,\n",
              "  0.013277860659066238,\n",
              "  0.0040081140474515576,\n",
              "  0.004113117618265262,\n",
              "  0.0036571854232631965,\n",
              "  0.004184788666351412,\n",
              "  0.005573818540913972],\n",
              " 'lr': [0.001,\n",
              "  0.001,\n",
              "  0.001,\n",
              "  0.001,\n",
              "  0.001,\n",
              "  0.001,\n",
              "  0.001,\n",
              "  0.001,\n",
              "  0.001,\n",
              "  0.0004,\n",
              "  0.0004,\n",
              "  0.0004,\n",
              "  0.0004,\n",
              "  0.0004,\n",
              "  0.0004,\n",
              "  0.0004,\n",
              "  0.0004,\n",
              "  0.0004,\n",
              "  0.0004,\n",
              "  0.00016,\n",
              "  0.00016,\n",
              "  0.00016,\n",
              "  0.00016,\n",
              "  0.00016,\n",
              "  0.00016,\n",
              "  0.00016,\n",
              "  0.00016,\n",
              "  0.00016,\n",
              "  0.00016,\n",
              "  6.4e-05,\n",
              "  6.4e-05,\n",
              "  6.4e-05,\n",
              "  6.4e-05,\n",
              "  6.4e-05,\n",
              "  6.4e-05,\n",
              "  6.4e-05,\n",
              "  6.4e-05,\n",
              "  6.4e-05,\n",
              "  6.4e-05,\n",
              "  4e-05],\n",
              " 'sparse_categorical_accuracy': [0.9628563596491229,\n",
              "  0.9666353383458647,\n",
              "  0.9721765350877193,\n",
              "  0.9759946741854637,\n",
              "  0.9712171052631579,\n",
              "  0.9741541353383458,\n",
              "  0.9769736842105263,\n",
              "  0.9785988408521303,\n",
              "  0.9815946115288221,\n",
              "  0.9899553571428571,\n",
              "  0.9933427318295739,\n",
              "  0.994204260651629,\n",
              "  0.9962014411027569,\n",
              "  0.9939105576441103,\n",
              "  0.9948112468671679,\n",
              "  0.9952615914786967,\n",
              "  0.9971021303258145,\n",
              "  0.9958098370927319,\n",
              "  0.9972783521303258,\n",
              "  0.9989622493734336,\n",
              "  0.998688126566416,\n",
              "  0.998688126566416,\n",
              "  0.9978070175438597,\n",
              "  0.9955944548872181,\n",
              "  0.9993734335839599,\n",
              "  0.9989622493734336,\n",
              "  0.9994321741854637,\n",
              "  0.996828007518797,\n",
              "  0.9977091165413534,\n",
              "  0.9981790413533834,\n",
              "  0.9995104949874687,\n",
              "  0.9995496553884712,\n",
              "  0.9995888157894737,\n",
              "  0.9969259085213033,\n",
              "  0.9971217105263158,\n",
              "  0.9995300751879699,\n",
              "  0.9995496553884712,\n",
              "  0.9995692355889725,\n",
              "  0.9995300751879699,\n",
              "  0.9995104949874687],\n",
              " 'val_loss': [0.29411322287863717,\n",
              "  0.2864408412561664,\n",
              "  0.262080463273275,\n",
              "  0.28185793890986804,\n",
              "  0.2887239119055558,\n",
              "  0.35512510919064844,\n",
              "  0.27196618211719226,\n",
              "  0.29534811387717164,\n",
              "  0.32898840199242224,\n",
              "  0.2888155237964864,\n",
              "  0.31229984437835945,\n",
              "  0.27670400091534797,\n",
              "  0.3161394295045438,\n",
              "  0.335074823097115,\n",
              "  0.34841754894927673,\n",
              "  0.3138282816892244,\n",
              "  0.3745461693912182,\n",
              "  0.34485558769555835,\n",
              "  0.33358289162355986,\n",
              "  0.3207233748844888,\n",
              "  0.4115263021156798,\n",
              "  0.3941628400220993,\n",
              "  0.37162816099699514,\n",
              "  0.3430762382834833,\n",
              "  0.3508749901457637,\n",
              "  0.420287574259762,\n",
              "  0.35409584896252405,\n",
              "  0.3625239236719625,\n",
              "  0.36946882698289557,\n",
              "  0.3467561723400821,\n",
              "  0.35607131844812584,\n",
              "  0.36493379718960123,\n",
              "  0.4896941050043646,\n",
              "  0.3660148436309032,\n",
              "  0.4136547283686803,\n",
              "  0.36678098490953726,\n",
              "  0.37072113390027917,\n",
              "  0.37018463174693883,\n",
              "  0.38284797221422195,\n",
              "  0.429378153662909],\n",
              " 'val_sparse_categorical_accuracy': [0.9223172169811321,\n",
              "  0.9205483490566038,\n",
              "  0.9348466981132075,\n",
              "  0.9298349056603774,\n",
              "  0.9290978773584906,\n",
              "  0.9193691037735849,\n",
              "  0.9369103773584906,\n",
              "  0.9320459905660378,\n",
              "  0.9289504716981132,\n",
              "  0.9407429245283019,\n",
              "  0.9339622641509434,\n",
              "  0.9432488207547169,\n",
              "  0.9391214622641509,\n",
              "  0.9358785377358491,\n",
              "  0.9324882075471698,\n",
              "  0.9433962264150944,\n",
              "  0.9308667452830188,\n",
              "  0.9386792452830188,\n",
              "  0.9429540094339622,\n",
              "  0.9451650943396226,\n",
              "  0.9262971698113207,\n",
              "  0.9323408018867925,\n",
              "  0.9344044811320755,\n",
              "  0.9438384433962265,\n",
              "  0.9432488207547169,\n",
              "  0.9262971698113207,\n",
              "  0.9453125,\n",
              "  0.9438384433962265,\n",
              "  0.9419221698113207,\n",
              "  0.9444280660377359,\n",
              "  0.9447228773584906,\n",
              "  0.9447228773584906,\n",
              "  0.9199587264150944,\n",
              "  0.9444280660377359,\n",
              "  0.9348466981132075,\n",
              "  0.9460495283018868,\n",
              "  0.9450176886792453,\n",
              "  0.9447228773584906,\n",
              "  0.9450176886792453,\n",
              "  0.9329304245283019]}"
            ]
          },
          "metadata": {
            "tags": []
          },
          "execution_count": 25
        }
      ]
    },
    {
      "metadata": {
        "colab_type": "code",
        "id": "0Fgie8ZwyarQ",
        "colab": {
          "base_uri": "https://localhost:8080/",
          "height": 537
        },
        "outputId": "54875bf0-866c-494f-c1da-31877a718836"
      },
      "cell_type": "code",
      "source": [
        "#load best model according to cross-validation - model-attRNN\n",
        "model = load_model('model-attRNN.h5', custom_objects={'Melspectrogram': Melspectrogram, 'Normalization2D': Normalization2D })\n",
        "model.save_weights(\"model-attRNN.h5\")"
      ],
      "execution_count": 27,
      "outputs": [
        {
          "output_type": "error",
          "ename": "ValueError",
          "evalue": "ignored",
          "traceback": [
            "\u001b[0;31m---------------------------------------------------------------------------\u001b[0m",
            "\u001b[0;31mValueError\u001b[0m                                Traceback (most recent call last)",
            "\u001b[0;32m<ipython-input-27-2d407e33c74c>\u001b[0m in \u001b[0;36m<module>\u001b[0;34m()\u001b[0m\n\u001b[0;32m----> 1\u001b[0;31m \u001b[0mmodel\u001b[0m \u001b[0;34m=\u001b[0m \u001b[0mload_model\u001b[0m\u001b[0;34m(\u001b[0m\u001b[0;34m'model-attRNN.h5'\u001b[0m\u001b[0;34m,\u001b[0m \u001b[0mcustom_objects\u001b[0m\u001b[0;34m=\u001b[0m\u001b[0;34m{\u001b[0m\u001b[0;34m'Melspectrogram'\u001b[0m\u001b[0;34m:\u001b[0m \u001b[0mMelspectrogram\u001b[0m\u001b[0;34m,\u001b[0m \u001b[0;34m'Normalization2D'\u001b[0m\u001b[0;34m:\u001b[0m \u001b[0mNormalization2D\u001b[0m \u001b[0;34m}\u001b[0m\u001b[0;34m)\u001b[0m\u001b[0;34m\u001b[0m\u001b[0;34m\u001b[0m\u001b[0m\n\u001b[0m\u001b[1;32m      2\u001b[0m \u001b[0mmodel\u001b[0m\u001b[0;34m.\u001b[0m\u001b[0msave_weights\u001b[0m\u001b[0;34m(\u001b[0m\u001b[0;34m\"model-attRNN.h5\"\u001b[0m\u001b[0;34m)\u001b[0m\u001b[0;34m\u001b[0m\u001b[0;34m\u001b[0m\u001b[0m\n",
            "\u001b[0;32m/usr/local/lib/python3.6/dist-packages/keras/engine/saving.py\u001b[0m in \u001b[0;36mload_model\u001b[0;34m(filepath, custom_objects, compile)\u001b[0m\n\u001b[1;32m    417\u001b[0m     \u001b[0mf\u001b[0m \u001b[0;34m=\u001b[0m \u001b[0mh5dict\u001b[0m\u001b[0;34m(\u001b[0m\u001b[0mfilepath\u001b[0m\u001b[0;34m,\u001b[0m \u001b[0;34m'r'\u001b[0m\u001b[0;34m)\u001b[0m\u001b[0;34m\u001b[0m\u001b[0;34m\u001b[0m\u001b[0m\n\u001b[1;32m    418\u001b[0m     \u001b[0;32mtry\u001b[0m\u001b[0;34m:\u001b[0m\u001b[0;34m\u001b[0m\u001b[0;34m\u001b[0m\u001b[0m\n\u001b[0;32m--> 419\u001b[0;31m         \u001b[0mmodel\u001b[0m \u001b[0;34m=\u001b[0m \u001b[0m_deserialize_model\u001b[0m\u001b[0;34m(\u001b[0m\u001b[0mf\u001b[0m\u001b[0;34m,\u001b[0m \u001b[0mcustom_objects\u001b[0m\u001b[0;34m,\u001b[0m \u001b[0mcompile\u001b[0m\u001b[0;34m)\u001b[0m\u001b[0;34m\u001b[0m\u001b[0;34m\u001b[0m\u001b[0m\n\u001b[0m\u001b[1;32m    420\u001b[0m     \u001b[0;32mfinally\u001b[0m\u001b[0;34m:\u001b[0m\u001b[0;34m\u001b[0m\u001b[0;34m\u001b[0m\u001b[0m\n\u001b[1;32m    421\u001b[0m         \u001b[0;32mif\u001b[0m \u001b[0mopened_new_file\u001b[0m\u001b[0;34m:\u001b[0m\u001b[0;34m\u001b[0m\u001b[0;34m\u001b[0m\u001b[0m\n",
            "\u001b[0;32m/usr/local/lib/python3.6/dist-packages/keras/engine/saving.py\u001b[0m in \u001b[0;36m_deserialize_model\u001b[0;34m(f, custom_objects, compile)\u001b[0m\n\u001b[1;32m    219\u001b[0m         \u001b[0;32mreturn\u001b[0m \u001b[0mobj\u001b[0m\u001b[0;34m\u001b[0m\u001b[0;34m\u001b[0m\u001b[0m\n\u001b[1;32m    220\u001b[0m \u001b[0;34m\u001b[0m\u001b[0m\n\u001b[0;32m--> 221\u001b[0;31m     \u001b[0mmodel_config\u001b[0m \u001b[0;34m=\u001b[0m \u001b[0mf\u001b[0m\u001b[0;34m[\u001b[0m\u001b[0;34m'model_config'\u001b[0m\u001b[0;34m]\u001b[0m\u001b[0;34m\u001b[0m\u001b[0;34m\u001b[0m\u001b[0m\n\u001b[0m\u001b[1;32m    222\u001b[0m     \u001b[0;32mif\u001b[0m \u001b[0mmodel_config\u001b[0m \u001b[0;32mis\u001b[0m \u001b[0;32mNone\u001b[0m\u001b[0;34m:\u001b[0m\u001b[0;34m\u001b[0m\u001b[0;34m\u001b[0m\u001b[0m\n\u001b[1;32m    223\u001b[0m         \u001b[0;32mraise\u001b[0m \u001b[0mValueError\u001b[0m\u001b[0;34m(\u001b[0m\u001b[0;34m'No model found in config.'\u001b[0m\u001b[0;34m)\u001b[0m\u001b[0;34m\u001b[0m\u001b[0;34m\u001b[0m\u001b[0m\n",
            "\u001b[0;32m/usr/local/lib/python3.6/dist-packages/keras/utils/io_utils.py\u001b[0m in \u001b[0;36m__getitem__\u001b[0;34m(self, attr)\u001b[0m\n\u001b[1;32m    300\u001b[0m             \u001b[0;32melse\u001b[0m\u001b[0;34m:\u001b[0m\u001b[0;34m\u001b[0m\u001b[0;34m\u001b[0m\u001b[0m\n\u001b[1;32m    301\u001b[0m                 \u001b[0;32mif\u001b[0m \u001b[0mself\u001b[0m\u001b[0;34m.\u001b[0m\u001b[0mread_only\u001b[0m\u001b[0;34m:\u001b[0m\u001b[0;34m\u001b[0m\u001b[0;34m\u001b[0m\u001b[0m\n\u001b[0;32m--> 302\u001b[0;31m                     \u001b[0;32mraise\u001b[0m \u001b[0mValueError\u001b[0m\u001b[0;34m(\u001b[0m\u001b[0;34m'Cannot create group in read only mode.'\u001b[0m\u001b[0;34m)\u001b[0m\u001b[0;34m\u001b[0m\u001b[0;34m\u001b[0m\u001b[0m\n\u001b[0m\u001b[1;32m    303\u001b[0m                 \u001b[0mval\u001b[0m \u001b[0;34m=\u001b[0m \u001b[0mH5Dict\u001b[0m\u001b[0;34m(\u001b[0m\u001b[0mself\u001b[0m\u001b[0;34m.\u001b[0m\u001b[0mdata\u001b[0m\u001b[0;34m.\u001b[0m\u001b[0mcreate_group\u001b[0m\u001b[0;34m(\u001b[0m\u001b[0mattr\u001b[0m\u001b[0;34m)\u001b[0m\u001b[0;34m)\u001b[0m\u001b[0;34m\u001b[0m\u001b[0;34m\u001b[0m\u001b[0m\n\u001b[1;32m    304\u001b[0m         \u001b[0;32mreturn\u001b[0m \u001b[0mval\u001b[0m\u001b[0;34m\u001b[0m\u001b[0;34m\u001b[0m\u001b[0m\n",
            "\u001b[0;31mValueError\u001b[0m: Cannot create group in read only mode."
          ]
        }
      ]
    },
    {
      "metadata": {
        "scrolled": true,
        "id": "-ZIIBH4K---r",
        "colab_type": "code",
        "colab": {}
      },
      "cell_type": "code",
      "source": [
        "#read all test data\n",
        "x_test, y_test = testGen.__getitem__(0)"
      ],
      "execution_count": 0,
      "outputs": []
    },
    {
      "metadata": {
        "colab_type": "code",
        "id": "O_R8ga27yarS",
        "outputId": "9184ea4d-b941-4174-f696-468cd928ecc7",
        "colab": {
          "base_uri": "https://localhost:8080/",
          "height": 153
        }
      },
      "cell_type": "code",
      "source": [
        "valEval = model.evaluate_generator(valGen, use_multiprocessing=True, workers=4,verbose=1)\n",
        "trainEval = model.evaluate_generator(trainGen, use_multiprocessing=True, workers=4,verbose=1)\n",
        "testEval = model.evaluate(x_test, y_test, verbose=1)\n",
        "print('Evaluation scores: \\nMetrics: {} \\nTrain: {} \\nValidation: {} \\nTest: {}'.format(model.metrics_names, trainEval, valEval, testEval) )"
      ],
      "execution_count": 29,
      "outputs": [
        {
          "output_type": "stream",
          "text": [
            "106/106 [==============================] - 8s 79ms/step\n",
            "798/798 [==============================] - 53s 66ms/step\n",
            "6835/6835 [==============================] - 11s 2ms/step\n",
            "Evaluation scores: \n",
            "Metrics: ['loss', 'sparse_categorical_accuracy'] \n",
            "Train: [0.005483549652529845, 0.9994909147869674] \n",
            "Validation: [0.4123502114580333, 0.9373525943396226] \n",
            "Test: [0.37936552246935357, 0.942501828883282]\n"
          ],
          "name": "stdout"
        }
      ]
    },
    {
      "metadata": {
        "colab_type": "code",
        "id": "aaM300dkyarV",
        "outputId": "72b1921a-be30-4917-ba85-6ae6ef9c6506",
        "colab": {
          "base_uri": "https://localhost:8080/",
          "height": 51
        }
      },
      "cell_type": "code",
      "source": [
        "#only for the Kaggle competition, 12-cmd\n",
        "model.save('model-attRNN.h5')\n",
        "#files.download('model-attRNN.h5')\n",
        "\n",
        "x_testR, y_testR = testRGen.__getitem__(0)\n",
        "testREval = model.evaluate(x_testR, y_testR, verbose=1)\n",
        "testREval"
      ],
      "execution_count": 31,
      "outputs": [
        {
          "output_type": "stream",
          "text": [
            "3081/3081 [==============================] - 6s 2ms/step\n"
          ],
          "name": "stdout"
        },
        {
          "output_type": "execute_result",
          "data": {
            "text/plain": [
              "[1.921204415549959, 0.798117494320026]"
            ]
          },
          "metadata": {
            "tags": []
          },
          "execution_count": 31
        }
      ]
    },
    {
      "metadata": {
        "colab_type": "code",
        "id": "NNPwG83RyarY",
        "colab": {}
      },
      "cell_type": "code",
      "source": [
        "testREval = model.evaluate_generator(testRGen, use_multiprocessing=True, workers=4,verbose=1)\n",
        "testREval"
      ],
      "execution_count": 0,
      "outputs": []
    },
    {
      "metadata": {
        "colab_type": "code",
        "id": "CJ-hYnCRyarc",
        "colab": {}
      },
      "cell_type": "code",
      "source": [
        "# Evaluation and Attention Plots"
      ],
      "execution_count": 0,
      "outputs": []
    },
    {
      "metadata": {
        "id": "Hdc2NomT--_M",
        "colab_type": "code",
        "colab": {}
      },
      "cell_type": "code",
      "source": [
        "attSpeechModel = Model(inputs=model.input,\n",
        "                                 outputs=[model.get_layer('output').output, \n",
        "                                          model.get_layer('attSoftmax').output,\n",
        "                                          model.get_layer('mel_stft').output])\n"
      ],
      "execution_count": 0,
      "outputs": []
    },
    {
      "metadata": {
        "id": "-8n0RWrk--_P",
        "colab_type": "code",
        "colab": {}
      },
      "cell_type": "code",
      "source": [
        "audios, classes = valGen.__getitem__(3)\n",
        "classes"
      ],
      "execution_count": 0,
      "outputs": []
    },
    {
      "metadata": {
        "id": "1pkTF0yi--_W",
        "colab_type": "code",
        "colab": {}
      },
      "cell_type": "code",
      "source": [
        "#8 - on, 13 - one, 7 - right\n",
        "idAudio = 8\n",
        "classes[idAudio]"
      ],
      "execution_count": 0,
      "outputs": []
    },
    {
      "metadata": {
        "id": "CeghURz2--_f",
        "colab_type": "code",
        "colab": {}
      },
      "cell_type": "code",
      "source": [
        "outs, attW, specs = attSpeechModel.predict( audios )"
      ],
      "execution_count": 0,
      "outputs": []
    },
    {
      "metadata": {
        "id": "OjImLNYC--_o",
        "colab_type": "code",
        "colab": {}
      },
      "cell_type": "code",
      "source": [
        "np.argmax(outs,axis=1)"
      ],
      "execution_count": 0,
      "outputs": []
    },
    {
      "metadata": {
        "id": "zT6vuwem--_t",
        "colab_type": "code",
        "colab": {}
      },
      "cell_type": "code",
      "source": [
        "specs.shape"
      ],
      "execution_count": 0,
      "outputs": []
    },
    {
      "metadata": {
        "scrolled": false,
        "id": "YlaXZk8w--_y",
        "colab_type": "code",
        "colab": {}
      },
      "cell_type": "code",
      "source": [
        "\n",
        "imgHeight = 2*2\n",
        "\n",
        "plt.figure(figsize=(17*2,imgHeight))\n",
        "plt.title('Raw waveform', fontsize=30)\n",
        "plt.ylabel('Amplitude', fontsize=30)\n",
        "plt.xlabel('Sample index', fontsize=30)\n",
        "plt.plot(audios[idAudio])\n",
        "plt.savefig('picrawWave.png', dpi = 400)\n",
        "plt.show()\n",
        "\n",
        "plt.figure(figsize=(17*2,imgHeight))\n",
        "plt.title('Attention weights (log)', fontsize=30)\n",
        "plt.ylabel('Log of attention weight', fontsize=30)\n",
        "plt.xlabel('Mel-spectrogram index', fontsize=30)\n",
        "plt.plot(np.log(attW[idAudio]))\n",
        "plt.savefig('picAttention.png', dpi = 400)\n",
        "plt.show()\n",
        "\n",
        "\n",
        "plt.figure(figsize=(17*2,imgHeight*2))\n",
        "plt.pcolormesh(specs[idAudio,:,:,0])\n",
        "\n",
        "plt.title('Spectrogram visualization', fontsize=30)\n",
        "plt.ylabel('Frequency', fontsize=30)\n",
        "plt.xlabel('Time', fontsize=30)\n",
        "plt.savefig('picmelSpec.png', dpi = 400)\n",
        "\n",
        "plt.show()"
      ],
      "execution_count": 0,
      "outputs": []
    },
    {
      "metadata": {
        "id": "HzzKMfsb--_3",
        "colab_type": "code",
        "colab": {}
      },
      "cell_type": "code",
      "source": [
        "y_pred = model.predict(x_test, verbose=1)"
      ],
      "execution_count": 0,
      "outputs": []
    },
    {
      "metadata": {
        "id": "t4gevgve--_7",
        "colab_type": "code",
        "colab": {}
      },
      "cell_type": "code",
      "source": [
        "from sklearn.metrics import confusion_matrix\n",
        "import audioUtils\n",
        "cm = confusion_matrix(y_test, np.argmax(y_pred,1))"
      ],
      "execution_count": 0,
      "outputs": []
    },
    {
      "metadata": {
        "id": "QVYHhPHv-_AA",
        "colab_type": "code",
        "colab": {}
      },
      "cell_type": "code",
      "source": [
        "set(y_test)"
      ],
      "execution_count": 0,
      "outputs": []
    },
    {
      "metadata": {
        "id": "n2_7Ybjh-_AJ",
        "colab_type": "code",
        "colab": {}
      },
      "cell_type": "code",
      "source": [
        "#35word, v2\n",
        "classes = ['nine', 'yes', 'no', 'up', 'down', 'left', 'right', 'on', 'off', 'stop', 'go',\n",
        "           'zero', 'one', 'two', 'three', 'four', 'five', 'six', \n",
        "           'seven',  'eight', 'backward', 'bed', 'bird', 'cat', 'dog',\n",
        "           'follow', 'forward', 'happy', 'house', 'learn', 'marvin', 'sheila', 'tree',\n",
        "           'visual', 'wow']"
      ],
      "execution_count": 0,
      "outputs": []
    },
    {
      "metadata": {
        "id": "N2nHbQfI-_AP",
        "colab_type": "code",
        "colab": {}
      },
      "cell_type": "code",
      "source": [
        "#35word, v1\n",
        "classes=['nine', 'yes',  'no', 'up', 'down', 'left', 'right', 'on', 'off', 'stop', 'go',\n",
        "         'zero', 'one', 'two', 'three', 'four', 'five', 'six', 'seven',  'eight', \n",
        "         'bed', 'bird', 'cat', 'dog', 'happy', 'house', \n",
        "         'marvin', 'sheila', 'tree', 'wow']"
      ],
      "execution_count": 0,
      "outputs": []
    },
    {
      "metadata": {
        "id": "ghV_iMmf-_AT",
        "colab_type": "code",
        "colab": {}
      },
      "cell_type": "code",
      "source": [
        "#20cmd\n",
        "classes=['unknown', 'nine', 'yes',  'no', 'up', 'down', 'left', 'right', 'on', 'off', 'stop', 'go',\n",
        "         'zero', 'one', 'two', 'three', 'four', 'five', 'six', 'seven',  'eight', 'marvin', 'sheila']"
      ],
      "execution_count": 0,
      "outputs": []
    },
    {
      "metadata": {
        "scrolled": false,
        "id": "Nr0difDC-_AY",
        "colab_type": "code",
        "colab": {}
      },
      "cell_type": "code",
      "source": [
        "audioUtils.plot_confusion_matrix(cm,classes, normalize=True)"
      ],
      "execution_count": 0,
      "outputs": []
    },
    {
      "metadata": {
        "id": "x9QSdX53-_Ag",
        "colab_type": "code",
        "colab": {}
      },
      "cell_type": "code",
      "source": [
        "model = load_model('model-attRNN.h5', custom_objects={'Melspectrogram': Melspectrogram, 'Normalization2D': Normalization2D })"
      ],
      "execution_count": 0,
      "outputs": []
    },
    {
      "metadata": {
        "id": "m2EtBYpl-_Aj",
        "colab_type": "code",
        "colab": {}
      },
      "cell_type": "code",
      "source": [
        "voice="
      ],
      "execution_count": 0,
      "outputs": []
    }
  ]
}